{
 "cells": [
  {
   "cell_type": "markdown",
   "id": "c82e2625-1225-4cdf-b2bc-9b6811fb353b",
   "metadata": {},
   "source": [
    "## basics libraries"
   ]
  },
  {
   "cell_type": "code",
   "execution_count": 1,
   "id": "3f4f509f-7133-4f49-a974-a14316d25ed9",
   "metadata": {},
   "outputs": [],
   "source": [
    "import numpy as np\n",
    "import pandas as pd"
   ]
  },
  {
   "cell_type": "markdown",
   "id": "67226f87-a1e9-4d01-aba6-af2e9ae10ccc",
   "metadata": {},
   "source": [
    "## visualize libraries "
   ]
  },
  {
   "cell_type": "code",
   "execution_count": 2,
   "id": "9fc356b1-2736-4718-9ae2-9e49206d4e6d",
   "metadata": {},
   "outputs": [],
   "source": [
    "import matplotlib.pyplot as plt\n",
    "import pydot\n",
    "import seaborn as sns"
   ]
  },
  {
   "cell_type": "markdown",
   "id": "05393cd4-adc9-47fa-9f89-78025393d405",
   "metadata": {},
   "source": [
    "## Evalution library "
   ]
  },
  {
   "cell_type": "code",
   "execution_count": 3,
   "id": "ef6b0f41-d9cd-49d5-87c0-ab9766756391",
   "metadata": {},
   "outputs": [],
   "source": [
    "from sklearn.metrics import confusion_matrix\n",
    "from sklearn.metrics import accuracy_score\n",
    "from sklearn.model_selection import GridSearchCV"
   ]
  },
  {
   "cell_type": "markdown",
   "id": "75ca969b-24fc-4cea-9af7-1c24a0e3e602",
   "metadata": {},
   "source": [
    "## Deep learning library "
   ]
  },
  {
   "cell_type": "code",
   "execution_count": 4,
   "id": "16ee1c97-79b7-4b65-93f0-ca20505a7e71",
   "metadata": {},
   "outputs": [],
   "source": [
    "import tensorflow as tf\n",
    "from tensorflow.keras import layers\n",
    "import keras\n",
    "from keras.models import Sequential\n",
    "from keras.layers import Dense,Activation,Dropout\n",
    "from keras.datasets import mnist\n",
    "from tensorflow.keras.utils import to_categorical\n",
    "from scikeras.wrappers import KerasClassifier"
   ]
  },
  {
   "cell_type": "code",
   "execution_count": 5,
   "id": "fb8b5284-c4d8-40f9-b2d8-cdd6f1d53add",
   "metadata": {},
   "outputs": [],
   "source": [
    "#DIGIT DATASET LOAD FROM (MNIST)\n",
    "#x and y train ,test both are input and output \n",
    "# mnist.load_data() can't help to change data value from dataset\n",
    "(X_train_digit, y_train_digit), (X_test_digit, y_test_digit) = mnist.load_data()"
   ]
  },
  {
   "cell_type": "code",
   "execution_count": 6,
   "id": "8800bea8-85d3-4b2a-97ec-3608a8848bc1",
   "metadata": {},
   "outputs": [
    {
     "data": {
      "text/plain": [
       "array([[[0, 0, 0, ..., 0, 0, 0],\n",
       "        [0, 0, 0, ..., 0, 0, 0],\n",
       "        [0, 0, 0, ..., 0, 0, 0],\n",
       "        ...,\n",
       "        [0, 0, 0, ..., 0, 0, 0],\n",
       "        [0, 0, 0, ..., 0, 0, 0],\n",
       "        [0, 0, 0, ..., 0, 0, 0]],\n",
       "\n",
       "       [[0, 0, 0, ..., 0, 0, 0],\n",
       "        [0, 0, 0, ..., 0, 0, 0],\n",
       "        [0, 0, 0, ..., 0, 0, 0],\n",
       "        ...,\n",
       "        [0, 0, 0, ..., 0, 0, 0],\n",
       "        [0, 0, 0, ..., 0, 0, 0],\n",
       "        [0, 0, 0, ..., 0, 0, 0]],\n",
       "\n",
       "       [[0, 0, 0, ..., 0, 0, 0],\n",
       "        [0, 0, 0, ..., 0, 0, 0],\n",
       "        [0, 0, 0, ..., 0, 0, 0],\n",
       "        ...,\n",
       "        [0, 0, 0, ..., 0, 0, 0],\n",
       "        [0, 0, 0, ..., 0, 0, 0],\n",
       "        [0, 0, 0, ..., 0, 0, 0]],\n",
       "\n",
       "       ...,\n",
       "\n",
       "       [[0, 0, 0, ..., 0, 0, 0],\n",
       "        [0, 0, 0, ..., 0, 0, 0],\n",
       "        [0, 0, 0, ..., 0, 0, 0],\n",
       "        ...,\n",
       "        [0, 0, 0, ..., 0, 0, 0],\n",
       "        [0, 0, 0, ..., 0, 0, 0],\n",
       "        [0, 0, 0, ..., 0, 0, 0]],\n",
       "\n",
       "       [[0, 0, 0, ..., 0, 0, 0],\n",
       "        [0, 0, 0, ..., 0, 0, 0],\n",
       "        [0, 0, 0, ..., 0, 0, 0],\n",
       "        ...,\n",
       "        [0, 0, 0, ..., 0, 0, 0],\n",
       "        [0, 0, 0, ..., 0, 0, 0],\n",
       "        [0, 0, 0, ..., 0, 0, 0]],\n",
       "\n",
       "       [[0, 0, 0, ..., 0, 0, 0],\n",
       "        [0, 0, 0, ..., 0, 0, 0],\n",
       "        [0, 0, 0, ..., 0, 0, 0],\n",
       "        ...,\n",
       "        [0, 0, 0, ..., 0, 0, 0],\n",
       "        [0, 0, 0, ..., 0, 0, 0],\n",
       "        [0, 0, 0, ..., 0, 0, 0]]], dtype=uint8)"
      ]
     },
     "execution_count": 6,
     "metadata": {},
     "output_type": "execute_result"
    }
   ],
   "source": [
    "# no changes input show the matrix form\n",
    "X_train_digit"
   ]
  },
  {
   "cell_type": "code",
   "execution_count": 7,
   "id": "d1bd385f-52ff-40b5-9990-a9d8a4540b34",
   "metadata": {},
   "outputs": [
    {
     "data": {
      "text/plain": [
       "array([[  0,   0,   0,   0,   0,   0,   0,   0,   0,   0,   0,   0,   0,\n",
       "          0,   0,   0,   0,   0,   0,   0,   0,   0,   0,   0,   0,   0,\n",
       "          0,   0],\n",
       "       [  0,   0,   0,   0,   0,   0,   0,   0,   0,   0,   0,   0,   0,\n",
       "          0,   0,   0,   0,   0,   0,   0,   0,   0,   0,   0,   0,   0,\n",
       "          0,   0],\n",
       "       [  0,   0,   0,   0,   0,   0,   0,   0,   0,   0,   0,   0,   0,\n",
       "          0,   0,   0,   0,   0,   0,   0,   0,   0,   0,   0,   0,   0,\n",
       "          0,   0],\n",
       "       [  0,   0,   0,   0,   0,   0,   0,   0,   0,   0,   0,   0,   0,\n",
       "          0,   0,   0,   0,   0,   0,   0,   0,   0,   0,   0,   0,   0,\n",
       "          0,   0],\n",
       "       [  0,   0,   0,   0,   0,   0,   0,   0,   0,   0,   0,   0,   0,\n",
       "          0,   0,  51, 159, 253, 159,  50,   0,   0,   0,   0,   0,   0,\n",
       "          0,   0],\n",
       "       [  0,   0,   0,   0,   0,   0,   0,   0,   0,   0,   0,   0,   0,\n",
       "          0,  48, 238, 252, 252, 252, 237,   0,   0,   0,   0,   0,   0,\n",
       "          0,   0],\n",
       "       [  0,   0,   0,   0,   0,   0,   0,   0,   0,   0,   0,   0,   0,\n",
       "         54, 227, 253, 252, 239, 233, 252,  57,   6,   0,   0,   0,   0,\n",
       "          0,   0],\n",
       "       [  0,   0,   0,   0,   0,   0,   0,   0,   0,   0,   0,  10,  60,\n",
       "        224, 252, 253, 252, 202,  84, 252, 253, 122,   0,   0,   0,   0,\n",
       "          0,   0],\n",
       "       [  0,   0,   0,   0,   0,   0,   0,   0,   0,   0,   0, 163, 252,\n",
       "        252, 252, 253, 252, 252,  96, 189, 253, 167,   0,   0,   0,   0,\n",
       "          0,   0],\n",
       "       [  0,   0,   0,   0,   0,   0,   0,   0,   0,   0,  51, 238, 253,\n",
       "        253, 190, 114, 253, 228,  47,  79, 255, 168,   0,   0,   0,   0,\n",
       "          0,   0],\n",
       "       [  0,   0,   0,   0,   0,   0,   0,   0,   0,  48, 238, 252, 252,\n",
       "        179,  12,  75, 121,  21,   0,   0, 253, 243,  50,   0,   0,   0,\n",
       "          0,   0],\n",
       "       [  0,   0,   0,   0,   0,   0,   0,   0,  38, 165, 253, 233, 208,\n",
       "         84,   0,   0,   0,   0,   0,   0, 253, 252, 165,   0,   0,   0,\n",
       "          0,   0],\n",
       "       [  0,   0,   0,   0,   0,   0,   0,   7, 178, 252, 240,  71,  19,\n",
       "         28,   0,   0,   0,   0,   0,   0, 253, 252, 195,   0,   0,   0,\n",
       "          0,   0],\n",
       "       [  0,   0,   0,   0,   0,   0,   0,  57, 252, 252,  63,   0,   0,\n",
       "          0,   0,   0,   0,   0,   0,   0, 253, 252, 195,   0,   0,   0,\n",
       "          0,   0],\n",
       "       [  0,   0,   0,   0,   0,   0,   0, 198, 253, 190,   0,   0,   0,\n",
       "          0,   0,   0,   0,   0,   0,   0, 255, 253, 196,   0,   0,   0,\n",
       "          0,   0],\n",
       "       [  0,   0,   0,   0,   0,   0,  76, 246, 252, 112,   0,   0,   0,\n",
       "          0,   0,   0,   0,   0,   0,   0, 253, 252, 148,   0,   0,   0,\n",
       "          0,   0],\n",
       "       [  0,   0,   0,   0,   0,   0,  85, 252, 230,  25,   0,   0,   0,\n",
       "          0,   0,   0,   0,   0,   7, 135, 253, 186,  12,   0,   0,   0,\n",
       "          0,   0],\n",
       "       [  0,   0,   0,   0,   0,   0,  85, 252, 223,   0,   0,   0,   0,\n",
       "          0,   0,   0,   0,   7, 131, 252, 225,  71,   0,   0,   0,   0,\n",
       "          0,   0],\n",
       "       [  0,   0,   0,   0,   0,   0,  85, 252, 145,   0,   0,   0,   0,\n",
       "          0,   0,   0,  48, 165, 252, 173,   0,   0,   0,   0,   0,   0,\n",
       "          0,   0],\n",
       "       [  0,   0,   0,   0,   0,   0,  86, 253, 225,   0,   0,   0,   0,\n",
       "          0,   0, 114, 238, 253, 162,   0,   0,   0,   0,   0,   0,   0,\n",
       "          0,   0],\n",
       "       [  0,   0,   0,   0,   0,   0,  85, 252, 249, 146,  48,  29,  85,\n",
       "        178, 225, 253, 223, 167,  56,   0,   0,   0,   0,   0,   0,   0,\n",
       "          0,   0],\n",
       "       [  0,   0,   0,   0,   0,   0,  85, 252, 252, 252, 229, 215, 252,\n",
       "        252, 252, 196, 130,   0,   0,   0,   0,   0,   0,   0,   0,   0,\n",
       "          0,   0],\n",
       "       [  0,   0,   0,   0,   0,   0,  28, 199, 252, 252, 253, 252, 252,\n",
       "        233, 145,   0,   0,   0,   0,   0,   0,   0,   0,   0,   0,   0,\n",
       "          0,   0],\n",
       "       [  0,   0,   0,   0,   0,   0,   0,  25, 128, 252, 253, 252, 141,\n",
       "         37,   0,   0,   0,   0,   0,   0,   0,   0,   0,   0,   0,   0,\n",
       "          0,   0],\n",
       "       [  0,   0,   0,   0,   0,   0,   0,   0,   0,   0,   0,   0,   0,\n",
       "          0,   0,   0,   0,   0,   0,   0,   0,   0,   0,   0,   0,   0,\n",
       "          0,   0],\n",
       "       [  0,   0,   0,   0,   0,   0,   0,   0,   0,   0,   0,   0,   0,\n",
       "          0,   0,   0,   0,   0,   0,   0,   0,   0,   0,   0,   0,   0,\n",
       "          0,   0],\n",
       "       [  0,   0,   0,   0,   0,   0,   0,   0,   0,   0,   0,   0,   0,\n",
       "          0,   0,   0,   0,   0,   0,   0,   0,   0,   0,   0,   0,   0,\n",
       "          0,   0],\n",
       "       [  0,   0,   0,   0,   0,   0,   0,   0,   0,   0,   0,   0,   0,\n",
       "          0,   0,   0,   0,   0,   0,   0,   0,   0,   0,   0,   0,   0,\n",
       "          0,   0]], dtype=uint8)"
      ]
     },
     "execution_count": 7,
     "metadata": {},
     "output_type": "execute_result"
    }
   ],
   "source": [
    "#now list [1] change the value\n",
    "X_train_digit[1]"
   ]
  },
  {
   "cell_type": "code",
   "execution_count": 8,
   "id": "289a235a-ca39-4916-bb47-17f3945bb541",
   "metadata": {},
   "outputs": [
    {
     "data": {
      "text/plain": [
       "array([5, 0, 4, ..., 5, 6, 8], dtype=uint8)"
      ]
     },
     "execution_count": 8,
     "metadata": {},
     "output_type": "execute_result"
    }
   ],
   "source": [
    "#total 0 to 9 unit\n",
    "y_train_digit"
   ]
  },
  {
   "cell_type": "code",
   "execution_count": 9,
   "id": "957dd590-5993-4961-ba4a-de6e0dc35c38",
   "metadata": {},
   "outputs": [],
   "source": [
    "# unit in words 0 to 9\n",
    "col_names = ['Zero','One','Two','Three','Four','Five','Six','Seven','Eight','Nine']"
   ]
  },
  {
   "cell_type": "markdown",
   "id": "0c933b80-d7d5-4d33-87b2-ad1abdf002d6",
   "metadata": {},
   "source": [
    "## Visualizing the digits"
   ]
  },
  {
   "cell_type": "code",
   "execution_count": 10,
   "id": "10bc338b-fee4-4f35-9c5a-a4c33d25f727",
   "metadata": {},
   "outputs": [
    {
     "data": {
      "image/png": "[encoded data removed]",
      "text/plain": [
       "<Figure size 1000x1000 with 15 Axes>"
      ]
     },
     "metadata": {},
     "output_type": "display_data"
    }
   ],
   "source": [
    "# create the picture and picsize (10,10)\n",
    "plt.figure(figsize=(10,10))\n",
    "# so using range see image 15\n",
    "for i in range(15):\n",
    "    #position 5*5(i+1)\n",
    "    plt.subplot(5,5,i+1)\n",
    "    plt.xticks([])\n",
    "    plt.yticks([])\n",
    "    # Assuming X_train_digit is a numpy array with shape (num_samples, height, width)\n",
    "    # Index of the image you want to display\n",
    "    plt.imshow(X_train_digit[i], cmap='gray')\n",
    "    plt.xlabel(col_names[y_train_digit[i]])\n",
    "plt.show()"
   ]
  },
  {
   "cell_type": "markdown",
   "id": "905e891d-d15e-4eca-a3bf-ba0ab20a3db9",
   "metadata": {},
   "source": [
    "## keras model"
   ]
  },
  {
   "cell_type": "code",
   "execution_count": 11,
   "id": "e9cdee63-7e53-4cac-9ade-b93fc77c33e5",
   "metadata": {},
   "outputs": [
    {
     "data": {
      "text/plain": [
       "(60000, 28, 28)"
      ]
     },
     "execution_count": 11,
     "metadata": {},
     "output_type": "execute_result"
    }
   ],
   "source": [
    "#shape how many rows and columns \n",
    "X_train_digit.shape"
   ]
  },
  {
   "cell_type": "code",
   "execution_count": 12,
   "id": "6f237929-d254-4cf7-b478-53defab2674d",
   "metadata": {},
   "outputs": [],
   "source": [
    "#(60000,28,28) Ann is 3D so we convert into 2D "
   ]
  },
  {
   "cell_type": "code",
   "execution_count": 13,
   "id": "2715d745-c3f0-4a8d-a3af-a4c43a449546",
   "metadata": {},
   "outputs": [],
   "source": [
    "#28*28=784\n",
    "X_train_digit = X_train_digit.reshape(60000, 784)\n",
    "X_test_digit = X_test_digit.reshape(10000, 784)"
   ]
  },
  {
   "cell_type": "code",
   "execution_count": 14,
   "id": "ca0daecd-8e61-4cd4-9fbb-0192bdfe5177",
   "metadata": {},
   "outputs": [
    {
     "data": {
      "text/plain": [
       "(60000, 784)"
      ]
     },
     "execution_count": 14,
     "metadata": {},
     "output_type": "execute_result"
    }
   ],
   "source": [
    "X_train_digit.shape"
   ]
  },
  {
   "cell_type": "code",
   "execution_count": 15,
   "id": "81e087ca-4124-4341-90c8-281414cc9e11",
   "metadata": {},
   "outputs": [
    {
     "data": {
      "text/plain": [
       "(10000,)"
      ]
     },
     "execution_count": 15,
     "metadata": {},
     "output_type": "execute_result"
    }
   ],
   "source": [
    "# test-output can be 1D means change using one hot encoding\n",
    "## example 1st and 2nd image is 2 and 7 using one hot encoding like this {[0,1,2,3,4,5,6,7,8,9][0,0,1,0,0,0,0,1,0,0] position of the imgae show(0,1)\n",
    "y_test_digit.shape"
   ]
  },
  {
   "cell_type": "code",
   "execution_count": 16,
   "id": "e3ab77f3-3fa8-464e-b575-be4ed5f1493e",
   "metadata": {},
   "outputs": [],
   "source": [
    "#Encoding Digit MNIST Labels or categorical class 10\n",
    "y_train_digit = to_categorical(y_train_digit, num_classes=10)"
   ]
  },
  {
   "cell_type": "code",
   "execution_count": 17,
   "id": "198c8b5b-d3d8-4ec4-8ba4-a1f03820ddd5",
   "metadata": {},
   "outputs": [],
   "source": [
    "y_test_digit = to_categorical(y_test_digit, num_classes=10)"
   ]
  },
  {
   "cell_type": "code",
   "execution_count": 18,
   "id": "f0583349-5e09-4200-b4de-ea6882d6daf6",
   "metadata": {},
   "outputs": [
    {
     "data": {
      "text/plain": [
       "array([[0., 0., 0., ..., 1., 0., 0.],\n",
       "       [0., 0., 1., ..., 0., 0., 0.],\n",
       "       [0., 1., 0., ..., 0., 0., 0.],\n",
       "       ...,\n",
       "       [0., 0., 0., ..., 0., 0., 0.],\n",
       "       [0., 0., 0., ..., 0., 0., 0.],\n",
       "       [0., 0., 0., ..., 0., 0., 0.]])"
      ]
     },
     "execution_count": 18,
     "metadata": {},
     "output_type": "execute_result"
    }
   ],
   "source": [
    "# output categorical class=10(0,1)\n",
    "y_test_digit"
   ]
  },
  {
   "cell_type": "code",
   "execution_count": 19,
   "id": "9123bad1-e071-429c-854c-cacd951f30a4",
   "metadata": {},
   "outputs": [
    {
     "ename": "SyntaxError",
     "evalue": "invalid syntax (4036385741.py, line 2)",
     "output_type": "error",
     "traceback": [
      "\u001b[1;36m  Cell \u001b[1;32mIn[19], line 2\u001b[1;36m\u001b[0m\n\u001b[1;33m    y_train_digit[1]-0 replace 1 means there is no image\u001b[0m\n\u001b[1;37m                       ^\u001b[0m\n\u001b[1;31mSyntaxError\u001b[0m\u001b[1;31m:\u001b[0m invalid syntax\n"
     ]
    }
   ],
   "source": [
    "## input categorical class=10(0,1)\n",
    "y_train_digit[1]-0 replace 1 means there is no image "
   ]
  },
  {
   "cell_type": "markdown",
   "id": "49550c4e-8356-43ca-8608-e7a30c345bd1",
   "metadata": {},
   "source": [
    "## ANN-output-one hot encoding \n",
    "## input=2D\n",
    "## output=1D-one hot encoding"
   ]
  },
  {
   "cell_type": "code",
   "execution_count": 20,
   "id": "e0fed6d5-d71a-4be5-a9f8-86656b1664af",
   "metadata": {},
   "outputs": [],
   "source": [
    "## [model creation-brain active]-procedure "
   ]
  },
  {
   "cell_type": "markdown",
   "id": "64ac04b1-6edb-41f2-8242-1529e371935e",
   "metadata": {},
   "source": [
    "## what type of processes?\n",
    "## sequence -ANN\n",
    "## INPUT > WEIGHT >HIDEEN >SUMMATION> ACTIVATION FUNCTION >OUTPUT "
   ]
  },
  {
   "cell_type": "markdown",
   "id": "f5029e06-feb2-40e5-bfef-7f21749d22c3",
   "metadata": {},
   "source": [
    "## Creating base neural network\n",
    "## Dense > all neuron in connection(layer>input.dense>1st hidden)\n",
    "## activation='relu'summation(max(0,m)-256_neuron -hyper tuning parameters "
   ]
  },
  {
   "cell_type": "code",
   "execution_count": 21,
   "id": "338ebced-cf08-48ac-b881-91d232799e62",
   "metadata": {},
   "outputs": [
    {
     "name": "stderr",
     "output_type": "stream",
     "text": [
      "C:\\Users\\ragus\\anaconda3\\Lib\\site-packages\\keras\\src\\layers\\core\\dense.py:87: UserWarning: Do not pass an `input_shape`/`input_dim` argument to a layer. When using Sequential models, prefer using an `Input(shape)` object as the first layer in the model instead.\n",
      "  super().__init__(activity_regularizer=activity_regularizer, **kwargs)\n"
     ]
    }
   ],
   "source": [
    "model = keras.Sequential([\n",
    "    layers.Dense(256, activation='relu', input_shape=(784,)),\n",
    "    #layers.Dropout(0.3),\n",
    "    #layers.BatchNormalization(),\n",
    "    layers.Dense(64, activation='relu'),\n",
    "    #layers.Dropout(0.3),\n",
    "    #layers.BatchNormalization(),\n",
    "    layers.Dense(64, activation='relu'),\n",
    "    #layers.Dropout(0.3),\n",
    "    #layers.BatchNormalization(),\n",
    "    layers.Dense(10,activation='sigmoid'),\n",
    "])"
   ]
  },
  {
   "cell_type": "markdown",
   "id": "b6a732fc-ca3a-4f26-a44c-b9d451e9619e",
   "metadata": {},
   "source": [
    "## dense1=256+1*64=16,448\n",
    "## dense2=65*64=4,160\n",
    "## dense=65*10=650"
   ]
  },
  {
   "cell_type": "code",
   "execution_count": 22,
   "id": "625051d9-4b3e-4ceb-ac95-ced256e6ae6b",
   "metadata": {},
   "outputs": [
    {
     "data": {
      "text/html": [
       "<pre style=\"white-space:pre;overflow-x:auto;line-height:normal;font-family:Menlo,'DejaVu Sans Mono',consolas,'Courier New',monospace\"><span style=\"font-weight: bold\">Model: \"sequential\"</span>\n",
       "</pre>\n"
      ],
      "text/plain": [
       "\u001b[1mModel: \"sequential\"\u001b[0m\n"
      ]
     },
     "metadata": {},
     "output_type": "display_data"
    },
    {
     "data": {
      "text/html": [
       "<pre style=\"white-space:pre;overflow-x:auto;line-height:normal;font-family:Menlo,'DejaVu Sans Mono',consolas,'Courier New',monospace\">┏━━━━━━━━━━━━━━━━━━━━━━━━━━━━━━━━━━━━━━┳━━━━━━━━━━━━━━━━━━━━━━━━━━━━━┳━━━━━━━━━━━━━━━━━┓\n",
       "┃<span style=\"font-weight: bold\"> Layer (type)                         </span>┃<span style=\"font-weight: bold\"> Output Shape                </span>┃<span style=\"font-weight: bold\">         Param # </span>┃\n",
       "┡━━━━━━━━━━━━━━━━━━━━━━━━━━━━━━━━━━━━━━╇━━━━━━━━━━━━━━━━━━━━━━━━━━━━━╇━━━━━━━━━━━━━━━━━┩\n",
       "│ dense (<span style=\"color: #0087ff; text-decoration-color: #0087ff\">Dense</span>)                        │ (<span style=\"color: #00d7ff; text-decoration-color: #00d7ff\">None</span>, <span style=\"color: #00af00; text-decoration-color: #00af00\">256</span>)                 │         <span style=\"color: #00af00; text-decoration-color: #00af00\">200,960</span> │\n",
       "├──────────────────────────────────────┼─────────────────────────────┼─────────────────┤\n",
       "│ dense_1 (<span style=\"color: #0087ff; text-decoration-color: #0087ff\">Dense</span>)                      │ (<span style=\"color: #00d7ff; text-decoration-color: #00d7ff\">None</span>, <span style=\"color: #00af00; text-decoration-color: #00af00\">64</span>)                  │          <span style=\"color: #00af00; text-decoration-color: #00af00\">16,448</span> │\n",
       "├──────────────────────────────────────┼─────────────────────────────┼─────────────────┤\n",
       "│ dense_2 (<span style=\"color: #0087ff; text-decoration-color: #0087ff\">Dense</span>)                      │ (<span style=\"color: #00d7ff; text-decoration-color: #00d7ff\">None</span>, <span style=\"color: #00af00; text-decoration-color: #00af00\">64</span>)                  │           <span style=\"color: #00af00; text-decoration-color: #00af00\">4,160</span> │\n",
       "├──────────────────────────────────────┼─────────────────────────────┼─────────────────┤\n",
       "│ dense_3 (<span style=\"color: #0087ff; text-decoration-color: #0087ff\">Dense</span>)                      │ (<span style=\"color: #00d7ff; text-decoration-color: #00d7ff\">None</span>, <span style=\"color: #00af00; text-decoration-color: #00af00\">10</span>)                  │             <span style=\"color: #00af00; text-decoration-color: #00af00\">650</span> │\n",
       "└──────────────────────────────────────┴─────────────────────────────┴─────────────────┘\n",
       "</pre>\n"
      ],
      "text/plain": [
       "┏━━━━━━━━━━━━━━━━━━━━━━━━━━━━━━━━━━━━━━┳━━━━━━━━━━━━━━━━━━━━━━━━━━━━━┳━━━━━━━━━━━━━━━━━┓\n",
       "┃\u001b[1m \u001b[0m\u001b[1mLayer (type)                        \u001b[0m\u001b[1m \u001b[0m┃\u001b[1m \u001b[0m\u001b[1mOutput Shape               \u001b[0m\u001b[1m \u001b[0m┃\u001b[1m \u001b[0m\u001b[1m        Param #\u001b[0m\u001b[1m \u001b[0m┃\n",
       "┡━━━━━━━━━━━━━━━━━━━━━━━━━━━━━━━━━━━━━━╇━━━━━━━━━━━━━━━━━━━━━━━━━━━━━╇━━━━━━━━━━━━━━━━━┩\n",
       "│ dense (\u001b[38;5;33mDense\u001b[0m)                        │ (\u001b[38;5;45mNone\u001b[0m, \u001b[38;5;34m256\u001b[0m)                 │         \u001b[38;5;34m200,960\u001b[0m │\n",
       "├──────────────────────────────────────┼─────────────────────────────┼─────────────────┤\n",
       "│ dense_1 (\u001b[38;5;33mDense\u001b[0m)                      │ (\u001b[38;5;45mNone\u001b[0m, \u001b[38;5;34m64\u001b[0m)                  │          \u001b[38;5;34m16,448\u001b[0m │\n",
       "├──────────────────────────────────────┼─────────────────────────────┼─────────────────┤\n",
       "│ dense_2 (\u001b[38;5;33mDense\u001b[0m)                      │ (\u001b[38;5;45mNone\u001b[0m, \u001b[38;5;34m64\u001b[0m)                  │           \u001b[38;5;34m4,160\u001b[0m │\n",
       "├──────────────────────────────────────┼─────────────────────────────┼─────────────────┤\n",
       "│ dense_3 (\u001b[38;5;33mDense\u001b[0m)                      │ (\u001b[38;5;45mNone\u001b[0m, \u001b[38;5;34m10\u001b[0m)                  │             \u001b[38;5;34m650\u001b[0m │\n",
       "└──────────────────────────────────────┴─────────────────────────────┴─────────────────┘\n"
      ]
     },
     "metadata": {},
     "output_type": "display_data"
    },
    {
     "data": {
      "text/html": [
       "<pre style=\"white-space:pre;overflow-x:auto;line-height:normal;font-family:Menlo,'DejaVu Sans Mono',consolas,'Courier New',monospace\"><span style=\"font-weight: bold\"> Total params: </span><span style=\"color: #00af00; text-decoration-color: #00af00\">222,218</span> (868.04 KB)\n",
       "</pre>\n"
      ],
      "text/plain": [
       "\u001b[1m Total params: \u001b[0m\u001b[38;5;34m222,218\u001b[0m (868.04 KB)\n"
      ]
     },
     "metadata": {},
     "output_type": "display_data"
    },
    {
     "data": {
      "text/html": [
       "<pre style=\"white-space:pre;overflow-x:auto;line-height:normal;font-family:Menlo,'DejaVu Sans Mono',consolas,'Courier New',monospace\"><span style=\"font-weight: bold\"> Trainable params: </span><span style=\"color: #00af00; text-decoration-color: #00af00\">222,218</span> (868.04 KB)\n",
       "</pre>\n"
      ],
      "text/plain": [
       "\u001b[1m Trainable params: \u001b[0m\u001b[38;5;34m222,218\u001b[0m (868.04 KB)\n"
      ]
     },
     "metadata": {},
     "output_type": "display_data"
    },
    {
     "data": {
      "text/html": [
       "<pre style=\"white-space:pre;overflow-x:auto;line-height:normal;font-family:Menlo,'DejaVu Sans Mono',consolas,'Courier New',monospace\"><span style=\"font-weight: bold\"> Non-trainable params: </span><span style=\"color: #00af00; text-decoration-color: #00af00\">0</span> (0.00 B)\n",
       "</pre>\n"
      ],
      "text/plain": [
       "\u001b[1m Non-trainable params: \u001b[0m\u001b[38;5;34m0\u001b[0m (0.00 B)\n"
      ]
     },
     "metadata": {},
     "output_type": "display_data"
    }
   ],
   "source": [
    "#param_number = output_channel_number * (input_channel_number + 1)\n",
    "model.summary()# shown over all calculation"
   ]
  },
  {
   "cell_type": "code",
   "execution_count": 23,
   "id": "961ad3cb-da2b-4b8b-a0bb-17116effda15",
   "metadata": {},
   "outputs": [],
   "source": [
    "## brain\n",
    "## compliling\n",
    "## fit"
   ]
  },
  {
   "cell_type": "code",
   "execution_count": 24,
   "id": "10ea8636-73c6-4583-9458-53fc14129aeb",
   "metadata": {},
   "outputs": [],
   "source": [
    "#Compiling the model\n",
    "model.compile(loss=\"categorical_crossentropy\",\n",
    "              optimizer=\"adam\",\n",
    "              metrics = ['accuracy'])"
   ]
  },
  {
   "cell_type": "markdown",
   "id": "23d9da48-99fd-4e05-b3a8-7a1579140942",
   "metadata": {},
   "source": [
    "### [fit method]-model creat(brain create)\n",
    "## batch_size=100 [learing process history=model.fit]\n",
    "## epochs=10-[60000-processes(feed and back propagation)]\n",
    "## validation_data(learn than take test)"
   ]
  },
  {
   "cell_type": "code",
   "execution_count": 25,
   "id": "f566012f-e38d-4c32-95e0-96d53fec3fab",
   "metadata": {},
   "outputs": [
    {
     "name": "stdout",
     "output_type": "stream",
     "text": [
      "Epoch 1/10\n",
      "\u001b[1m600/600\u001b[0m \u001b[32m━━━━━━━━━━━━━━━━━━━━\u001b[0m\u001b[37m\u001b[0m \u001b[1m10s\u001b[0m 11ms/step - accuracy: 0.7651 - loss: 3.8577 - val_accuracy: 0.9141 - val_loss: 0.3509\n",
      "Epoch 2/10\n",
      "\u001b[1m600/600\u001b[0m \u001b[32m━━━━━━━━━━━━━━━━━━━━\u001b[0m\u001b[37m\u001b[0m \u001b[1m6s\u001b[0m 10ms/step - accuracy: 0.9234 - loss: 0.2899 - val_accuracy: 0.9379 - val_loss: 0.2314\n",
      "Epoch 3/10\n",
      "\u001b[1m600/600\u001b[0m \u001b[32m━━━━━━━━━━━━━━━━━━━━\u001b[0m\u001b[37m\u001b[0m \u001b[1m6s\u001b[0m 10ms/step - accuracy: 0.9491 - loss: 0.1834 - val_accuracy: 0.9488 - val_loss: 0.2002\n",
      "Epoch 4/10\n",
      "\u001b[1m600/600\u001b[0m \u001b[32m━━━━━━━━━━━━━━━━━━━━\u001b[0m\u001b[37m\u001b[0m \u001b[1m6s\u001b[0m 10ms/step - accuracy: 0.9579 - loss: 0.1464 - val_accuracy: 0.9485 - val_loss: 0.2039\n",
      "Epoch 5/10\n",
      "\u001b[1m600/600\u001b[0m \u001b[32m━━━━━━━━━━━━━━━━━━━━\u001b[0m\u001b[37m\u001b[0m \u001b[1m6s\u001b[0m 10ms/step - accuracy: 0.9642 - loss: 0.1230 - val_accuracy: 0.9584 - val_loss: 0.1635\n",
      "Epoch 6/10\n",
      "\u001b[1m600/600\u001b[0m \u001b[32m━━━━━━━━━━━━━━━━━━━━\u001b[0m\u001b[37m\u001b[0m \u001b[1m6s\u001b[0m 10ms/step - accuracy: 0.9705 - loss: 0.1016 - val_accuracy: 0.9639 - val_loss: 0.1492\n",
      "Epoch 7/10\n",
      "\u001b[1m600/600\u001b[0m \u001b[32m━━━━━━━━━━━━━━━━━━━━\u001b[0m\u001b[37m\u001b[0m \u001b[1m6s\u001b[0m 10ms/step - accuracy: 0.9723 - loss: 0.0934 - val_accuracy: 0.9590 - val_loss: 0.1635\n",
      "Epoch 8/10\n",
      "\u001b[1m600/600\u001b[0m \u001b[32m━━━━━━━━━━━━━━━━━━━━\u001b[0m\u001b[37m\u001b[0m \u001b[1m6s\u001b[0m 10ms/step - accuracy: 0.9747 - loss: 0.0895 - val_accuracy: 0.9639 - val_loss: 0.1516\n",
      "Epoch 9/10\n",
      "\u001b[1m600/600\u001b[0m \u001b[32m━━━━━━━━━━━━━━━━━━━━\u001b[0m\u001b[37m\u001b[0m \u001b[1m6s\u001b[0m 10ms/step - accuracy: 0.9795 - loss: 0.0681 - val_accuracy: 0.9657 - val_loss: 0.1501\n",
      "Epoch 10/10\n",
      "\u001b[1m600/600\u001b[0m \u001b[32m━━━━━━━━━━━━━━━━━━━━\u001b[0m\u001b[37m\u001b[0m \u001b[1m6s\u001b[0m 10ms/step - accuracy: 0.9788 - loss: 0.0727 - val_accuracy: 0.9689 - val_loss: 0.1316\n"
     ]
    }
   ],
   "source": [
    "history=model.fit(X_train_digit, y_train_digit, batch_size=100, epochs=10,validation_data=(X_test_digit, y_test_digit))"
   ]
  },
  {
   "cell_type": "code",
   "execution_count": 26,
   "id": "174ca67a-f73a-4e94-bf33-bbb33e48ad7e",
   "metadata": {},
   "outputs": [
    {
     "name": "stdout",
     "output_type": "stream",
     "text": [
      "\u001b[1m313/313\u001b[0m \u001b[32m━━━━━━━━━━━━━━━━━━━━\u001b[0m\u001b[37m\u001b[0m \u001b[1m2s\u001b[0m 3ms/step - accuracy: 0.9638 - loss: 0.1560\n"
     ]
    }
   ],
   "source": [
    "test_loss_digit, test_acc_digit = model.evaluate(X_test_digit, y_test_digit)"
   ]
  },
  {
   "cell_type": "code",
   "execution_count": 27,
   "id": "0b670df2-4b6a-427c-8d43-3d3bb8bb8cfe",
   "metadata": {},
   "outputs": [
    {
     "name": "stdout",
     "output_type": "stream",
     "text": [
      "Digit MNIST Test accuracy: 0.9689\n"
     ]
    }
   ],
   "source": [
    "print('Digit MNIST Test accuracy:', round(test_acc_digit,4))"
   ]
  },
  {
   "cell_type": "markdown",
   "id": "89b5c290-ffc4-4cc5-b8ca-b2db13be7c7e",
   "metadata": {},
   "source": [
    "## Predicting the labels-DIGIT"
   ]
  },
  {
   "cell_type": "code",
   "execution_count": 28,
   "id": "5fd54685-a228-4264-95c9-91d60cd7b31b",
   "metadata": {},
   "outputs": [
    {
     "name": "stdout",
     "output_type": "stream",
     "text": [
      "\u001b[1m313/313\u001b[0m \u001b[32m━━━━━━━━━━━━━━━━━━━━\u001b[0m\u001b[37m\u001b[0m \u001b[1m1s\u001b[0m 3ms/step\n"
     ]
    }
   ],
   "source": [
    "y_predict = model.predict(X_test_digit)"
   ]
  },
  {
   "cell_type": "code",
   "execution_count": 29,
   "id": "ba9584f9-7d28-4bda-8797-ee6c8ce8df03",
   "metadata": {},
   "outputs": [
    {
     "data": {
      "text/plain": [
       "array([0.89264387, 0.99995446, 0.38712546, 0.99999744, 0.9960305 ,\n",
       "       0.9697081 , 0.00629903, 1.        , 0.3860341 , 0.96680516],\n",
       "      dtype=float32)"
      ]
     },
     "execution_count": 29,
     "metadata": {},
     "output_type": "execute_result"
    }
   ],
   "source": [
    "y_predict[0]"
   ]
  },
  {
   "cell_type": "code",
   "execution_count": 30,
   "id": "880cd528-32c2-4a0f-84c1-96f900842f22",
   "metadata": {},
   "outputs": [],
   "source": [
    "y_predicts=np.argmax(y_predict, axis=1)\n",
    "y_test_digit_eval=np.argmax(y_test_digit, axis=1)"
   ]
  },
  {
   "cell_type": "code",
   "execution_count": 31,
   "id": "bac77fe2-6e81-4b97-95f4-9f401b26d778",
   "metadata": {},
   "outputs": [
    {
     "data": {
      "text/plain": [
       "7"
      ]
     },
     "execution_count": 31,
     "metadata": {},
     "output_type": "execute_result"
    }
   ],
   "source": [
    "y_predicts[0]"
   ]
  },
  {
   "cell_type": "code",
   "execution_count": 32,
   "id": "d5bb0a2b-f02a-4887-9439-be33f0970653",
   "metadata": {},
   "outputs": [
    {
     "data": {
      "text/plain": [
       "array([7, 2, 1, ..., 4, 5, 6], dtype=int64)"
      ]
     },
     "execution_count": 32,
     "metadata": {},
     "output_type": "execute_result"
    }
   ],
   "source": [
    "y_test_digit_eval"
   ]
  },
  {
   "cell_type": "code",
   "execution_count": 33,
   "id": "0cdc4ebc-439b-42ee-bf67-98f9e16349f5",
   "metadata": {},
   "outputs": [],
   "source": [
    "y_pre=pd.DataFrame(y_predicts)"
   ]
  },
  {
   "cell_type": "code",
   "execution_count": 34,
   "id": "f023cc3e-47a8-4d85-a023-11fc779b1143",
   "metadata": {},
   "outputs": [
    {
     "data": {
      "text/html": [
       "<div>\n",
       "<style scoped>\n",
       "    .dataframe tbody tr th:only-of-type {\n",
       "        vertical-align: middle;\n",
       "    }\n",
       "\n",
       "    .dataframe tbody tr th {\n",
       "        vertical-align: top;\n",
       "    }\n",
       "\n",
       "    .dataframe thead th {\n",
       "        text-align: right;\n",
       "    }\n",
       "</style>\n",
       "<table border=\"1\" class=\"dataframe\">\n",
       "  <thead>\n",
       "    <tr style=\"text-align: right;\">\n",
       "      <th></th>\n",
       "      <th>0</th>\n",
       "    </tr>\n",
       "  </thead>\n",
       "  <tbody>\n",
       "    <tr>\n",
       "      <th>0</th>\n",
       "      <td>7</td>\n",
       "    </tr>\n",
       "    <tr>\n",
       "      <th>1</th>\n",
       "      <td>2</td>\n",
       "    </tr>\n",
       "    <tr>\n",
       "      <th>2</th>\n",
       "      <td>1</td>\n",
       "    </tr>\n",
       "    <tr>\n",
       "      <th>3</th>\n",
       "      <td>0</td>\n",
       "    </tr>\n",
       "    <tr>\n",
       "      <th>4</th>\n",
       "      <td>4</td>\n",
       "    </tr>\n",
       "    <tr>\n",
       "      <th>...</th>\n",
       "      <td>...</td>\n",
       "    </tr>\n",
       "    <tr>\n",
       "      <th>9995</th>\n",
       "      <td>2</td>\n",
       "    </tr>\n",
       "    <tr>\n",
       "      <th>9996</th>\n",
       "      <td>3</td>\n",
       "    </tr>\n",
       "    <tr>\n",
       "      <th>9997</th>\n",
       "      <td>4</td>\n",
       "    </tr>\n",
       "    <tr>\n",
       "      <th>9998</th>\n",
       "      <td>5</td>\n",
       "    </tr>\n",
       "    <tr>\n",
       "      <th>9999</th>\n",
       "      <td>6</td>\n",
       "    </tr>\n",
       "  </tbody>\n",
       "</table>\n",
       "<p>10000 rows × 1 columns</p>\n",
       "</div>"
      ],
      "text/plain": [
       "      0\n",
       "0     7\n",
       "1     2\n",
       "2     1\n",
       "3     0\n",
       "4     4\n",
       "...  ..\n",
       "9995  2\n",
       "9996  3\n",
       "9997  4\n",
       "9998  5\n",
       "9999  6\n",
       "\n",
       "[10000 rows x 1 columns]"
      ]
     },
     "execution_count": 34,
     "metadata": {},
     "output_type": "execute_result"
    }
   ],
   "source": [
    "y_pre"
   ]
  },
  {
   "cell_type": "code",
   "execution_count": 35,
   "id": "8896f888-725b-4264-b865-8c6dcec951f4",
   "metadata": {},
   "outputs": [
    {
     "data": {
      "image/png": "[encoded data removed]",
      "text/plain": [
       "<Figure size 1000x1000 with 2 Axes>"
      ]
     },
     "metadata": {},
     "output_type": "display_data"
    }
   ],
   "source": [
    "#Confusion matrix for Digit MNIST\n",
    "con_mat=confusion_matrix(y_test_digit_eval,y_predicts)\n",
    "plt.style.use(\"grayscale\")\n",
    "plt.figure(figsize=(10,10))\n",
    "sns.heatmap(con_mat,annot=True,annot_kws={'size': 15},linewidths=0.5,fmt=\"d\",cmap=\"gray\")\n",
    "plt.title('True or False predicted digit MNIST\\n',fontweight='bold',fontsize=15)\n",
    "plt.show()"
   ]
  },
  {
   "cell_type": "code",
   "execution_count": 36,
   "id": "c495b6cd-083d-46c0-ae9a-5471655563cb",
   "metadata": {},
   "outputs": [
    {
     "name": "stdout",
     "output_type": "stream",
     "text": [
      "              precision    recall  f1-score   support\n",
      "\n",
      "           0       0.98      0.99      0.98       980\n",
      "           1       0.87      0.99      0.92      1135\n",
      "           2       0.96      0.97      0.97      1032\n",
      "           3       0.89      0.98      0.93      1010\n",
      "           4       0.97      0.97      0.97       982\n",
      "           5       0.94      0.95      0.95       892\n",
      "           6       0.99      0.83      0.90       958\n",
      "           7       0.93      0.88      0.91      1028\n",
      "           8       0.96      0.96      0.96       974\n",
      "           9       0.95      0.88      0.92      1009\n",
      "\n",
      "    accuracy                           0.94     10000\n",
      "   macro avg       0.94      0.94      0.94     10000\n",
      "weighted avg       0.94      0.94      0.94     10000\n",
      "\n"
     ]
    }
   ],
   "source": [
    "from sklearn.metrics import classification_report\n",
    "print(classification_report(y_test_digit_eval,y_predicts))"
   ]
  },
  {
   "cell_type": "code",
   "execution_count": 37,
   "id": "7ddff2b9-d2c9-4442-89e7-0f3620a734aa",
   "metadata": {},
   "outputs": [
    {
     "name": "stdout",
     "output_type": "stream",
     "text": [
      "dict_keys(['accuracy', 'loss', 'val_accuracy', 'val_loss'])\n"
     ]
    }
   ],
   "source": [
    "print(history.history.keys())"
   ]
  },
  {
   "cell_type": "markdown",
   "id": "d7f2238b-5a0c-46ba-87f3-39f36e17e815",
   "metadata": {},
   "source": [
    "# summarize history for accuracy"
   ]
  },
  {
   "cell_type": "code",
   "execution_count": 38,
   "id": "9241e110-b05f-4927-8bf8-b27069b87b7c",
   "metadata": {},
   "outputs": [
    {
     "data": {
      "image/png": "[encoded data removed]",
      "text/plain": [
       "<Figure size 640x480 with 1 Axes>"
      ]
     },
     "metadata": {},
     "output_type": "display_data"
    }
   ],
   "source": [
    "plt.plot(history.history['accuracy'])\n",
    "plt.plot(history.history['val_accuracy'])\n",
    "plt.title('model accuracy')\n",
    "plt.ylabel('accuracy')\n",
    "plt.xlabel('epoch')\n",
    "plt.legend(['train', 'test'], loc='best')\n",
    "plt.show()"
   ]
  },
  {
   "cell_type": "markdown",
   "id": "349dcc52-855a-4d0d-9348-a026e2f1821d",
   "metadata": {},
   "source": [
    "# summarize history for loss"
   ]
  },
  {
   "cell_type": "code",
   "execution_count": 39,
   "id": "4403fd50-3113-4e66-b248-5431fd05afa1",
   "metadata": {},
   "outputs": [
    {
     "data": {
      "image/png": "[encoded data removed]",
      "text/plain": [
       "<Figure size 640x480 with 1 Axes>"
      ]
     },
     "metadata": {},
     "output_type": "display_data"
    }
   ],
   "source": [
    "plt.plot(history.history['loss'])\n",
    "plt.plot(history.history['val_loss'])\n",
    "plt.title('model loss')\n",
    "plt.ylabel('loss')\n",
    "plt.xlabel('epoch')\n",
    "plt.legend(['train', 'test'], loc='best')\n",
    "plt.show()"
   ]
  },
  {
   "cell_type": "markdown",
   "id": "b48ab495-8e09-4077-aca6-db06aae342dd",
   "metadata": {},
   "source": [
    "## Predicting and Evaluating a Single Digit MNIST Instance\n",
    "## 1. Predicting a Single Instance"
   ]
  },
  {
   "cell_type": "code",
   "execution_count": 40,
   "id": "3ceea9b1-af45-4da2-88ce-5f90148221b1",
   "metadata": {},
   "outputs": [
    {
     "name": "stdout",
     "output_type": "stream",
     "text": [
      "\u001b[1m1/1\u001b[0m \u001b[32m━━━━━━━━━━━━━━━━━━━━\u001b[0m\u001b[37m\u001b[0m \u001b[1m0s\u001b[0m 57ms/step\n"
     ]
    }
   ],
   "source": [
    "#tf.expand_dims(X_test_digit[0])\n",
    "y_predict_single = model.predict(X_test_digit[[5]])\n",
    "y_predicts_single=np.argmax(y_predict_single, axis=1)\n",
    "y_test_digit_eval=np.argmax(y_test_digit, axis=1)"
   ]
  },
  {
   "cell_type": "code",
   "execution_count": 41,
   "id": "1f065ec3-c4d3-4cc8-9a25-2ec18986fffd",
   "metadata": {},
   "outputs": [
    {
     "data": {
      "text/plain": [
       "1"
      ]
     },
     "execution_count": 41,
     "metadata": {},
     "output_type": "execute_result"
    }
   ],
   "source": [
    "y_predicts_single[0]"
   ]
  },
  {
   "cell_type": "code",
   "execution_count": 42,
   "id": "ef9b4352-8a2d-4c76-bf97-0b67d257c6e5",
   "metadata": {},
   "outputs": [
    {
     "data": {
      "text/plain": [
       "array([1], dtype=int64)"
      ]
     },
     "execution_count": 42,
     "metadata": {},
     "output_type": "execute_result"
    }
   ],
   "source": [
    "y_predicts_single"
   ]
  },
  {
   "cell_type": "code",
   "execution_count": 43,
   "id": "1ca0b012-8c5b-4bbf-b73b-df89ab9777cd",
   "metadata": {},
   "outputs": [
    {
     "data": {
      "text/plain": [
       "array([7, 2, 1, ..., 4, 5, 6], dtype=int64)"
      ]
     },
     "execution_count": 43,
     "metadata": {},
     "output_type": "execute_result"
    }
   ],
   "source": [
    "y_test_digit_eval"
   ]
  },
  {
   "cell_type": "markdown",
   "id": "cc2de9ac-7fe5-4927-9956-831c08a9e226",
   "metadata": {},
   "source": [
    "## #Visualizing the digits\n",
    "# plt.figure(figsize=(10,10))"
   ]
  },
  {
   "cell_type": "code",
   "execution_count": 44,
   "id": "47a44103-8793-446e-99e8-4cb56a3f7f59",
   "metadata": {},
   "outputs": [
    {
     "data": {
      "image/png": "[encoded data removed]",
      "text/plain": [
       "<Figure size 640x480 with 1 Axes>"
      ]
     },
     "metadata": {},
     "output_type": "display_data"
    }
   ],
   "source": [
    "#Names of numbers in the dataset in order\n",
    "col_names = ['Zero','One','Two','Three','Four','Five','Six','Seven','Eight','Nine']\n",
    "plt.imshow(X_test_digit[8].reshape(28,28), cmap='gray')\n",
    "plt.xlabel(\"Actual:{},Pred:{}\".format(col_names[np.argmax(y_test_digit[2])],col_names[y_predicts_single[0]]))\n",
    "plt.show()"
   ]
  },
  {
   "cell_type": "code",
   "execution_count": 45,
   "id": "4834bc03-43ee-43c1-b757-fed5a68c5a70",
   "metadata": {},
   "outputs": [
    {
     "data": {
      "text/plain": [
       "array([0., 0., 0., 0., 0., 1., 0., 0., 0., 0.])"
      ]
     },
     "execution_count": 45,
     "metadata": {},
     "output_type": "execute_result"
    }
   ],
   "source": [
    "y_test_digit[8]"
   ]
  },
  {
   "cell_type": "code",
   "execution_count": null,
   "id": "b0ea4426-62b9-40df-9208-5c9cff5cf506",
   "metadata": {},
   "outputs": [],
   "source": []
  }
 ],
 "metadata": {
  "kernelspec": {
   "display_name": "Python 3 (ipykernel)",
   "language": "python",
   "name": "python3"
  },
  "language_info": {
   "codemirror_mode": {
    "name": "ipython",
    "version": 3
   },
   "file_extension": ".py",
   "mimetype": "text/x-python",
   "name": "python",
   "nbconvert_exporter": "python",
   "pygments_lexer": "ipython3",
   "version": "3.11.5"
  }
 },
 "nbformat": 4,
 "nbformat_minor": 5
}
